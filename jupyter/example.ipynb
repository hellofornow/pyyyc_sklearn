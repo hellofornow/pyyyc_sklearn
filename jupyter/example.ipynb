{
 "cells": [
  {
   "cell_type": "markdown",
   "metadata": {},
   "source": [
    "# PyYYC: Intro to Scikit-Learn\n",
    "by matt whiteside"
   ]
  },
  {
   "cell_type": "markdown",
   "metadata": {},
   "source": [
    "## Example data\n",
    "From my work, I have provided some public health data\n",
    "\n",
    "This dataset includes:\n",
    "1. Feature data: presence or absence of genes in Salmonella genomes\n",
    "2. Target data: resistant or susceptible to the drug Streptomycin\n",
    "\n",
    "Goal: Is it possible to predict resistant bacteria from their genes?\n"
   ]
  },
  {
   "cell_type": "code",
   "execution_count": 2,
   "metadata": {},
   "outputs": [],
   "source": [
    "# I have pickled using sklearn's pickle function\n",
    "# To load the feature data:\n",
    "from sklearn.externals import joblib\n",
    "X = joblib.load('../example/features.pkl')\n",
    "X = X.toarray() # Switch out from sparse format\n",
    "y = joblib.load('../example/targets.pkl')\n",
    "\n",
    "# Take a look at X i.e. X[1:10,1:10]\n",
    "# There are 1's to indicate the presence of a gene and 0's everywhere else"
   ]
  },
  {
   "cell_type": "code",
   "execution_count": 3,
   "metadata": {},
   "outputs": [
    {
     "ename": "NameError",
     "evalue": "name 'X' is not defined",
     "output_type": "error",
     "traceback": [
      "\u001b[0;31m---------------------------------------------------------------------------\u001b[0m",
      "\u001b[0;31mNameError\u001b[0m                                 Traceback (most recent call last)",
      "\u001b[0;32m<ipython-input-3-8093a70296d0>\u001b[0m in \u001b[0;36m<module>\u001b[0;34m()\u001b[0m\n\u001b[1;32m      1\u001b[0m \u001b[0;31m# First you will need to create a training and test set\u001b[0m\u001b[0;34m\u001b[0m\u001b[0;34m\u001b[0m\u001b[0m\n\u001b[1;32m      2\u001b[0m \u001b[0;32mfrom\u001b[0m \u001b[0msklearn\u001b[0m\u001b[0;34m.\u001b[0m\u001b[0mmodel_selection\u001b[0m \u001b[0;32mimport\u001b[0m \u001b[0mtrain_test_split\u001b[0m\u001b[0;34m\u001b[0m\u001b[0m\n\u001b[0;32m----> 3\u001b[0;31m \u001b[0mX_train\u001b[0m\u001b[0;34m,\u001b[0m \u001b[0mX_test\u001b[0m\u001b[0;34m,\u001b[0m \u001b[0my_train\u001b[0m\u001b[0;34m,\u001b[0m \u001b[0my_test\u001b[0m \u001b[0;34m=\u001b[0m \u001b[0mtrain_test_split\u001b[0m\u001b[0;34m(\u001b[0m\u001b[0mX\u001b[0m\u001b[0;34m,\u001b[0m \u001b[0my\u001b[0m\u001b[0;34m,\u001b[0m \u001b[0mtest_size\u001b[0m\u001b[0;34m=\u001b[0m\u001b[0;36m0.33\u001b[0m\u001b[0;34m,\u001b[0m \u001b[0mrandom_state\u001b[0m\u001b[0;34m=\u001b[0m\u001b[0;36m36\u001b[0m\u001b[0;34m)\u001b[0m\u001b[0;34m\u001b[0m\u001b[0m\n\u001b[0m",
      "\u001b[0;31mNameError\u001b[0m: name 'X' is not defined"
     ]
    }
   ],
   "source": [
    "# First you will need to create a training and test set\n",
    "from sklearn.model_selection import train_test_split\n",
    "X_train, X_test, y_train, y_test = train_test_split(X, y, test_size=0.33, random_state=36)\n"
   ]
  },
  {
   "cell_type": "code",
   "execution_count": 1,
   "metadata": {},
   "outputs": [
    {
     "ename": "SyntaxError",
     "evalue": "invalid syntax (<ipython-input-1-175b1cb357c1>, line 15)",
     "output_type": "error",
     "traceback": [
      "\u001b[0;36m  File \u001b[0;32m\"<ipython-input-1-175b1cb357c1>\"\u001b[0;36m, line \u001b[0;32m15\u001b[0m\n\u001b[0;31m    ])\u001b[0m\n\u001b[0m    ^\u001b[0m\n\u001b[0;31mSyntaxError\u001b[0m\u001b[0;31m:\u001b[0m invalid syntax\n"
     ]
    }
   ],
   "source": [
    "# Time to create your pipeline\n",
    "\n",
    "# I've already performed the feature extraction and converted the genes into matrices\n",
    "# So first step is feature selection\n",
    "# You could try again TfidrTransformer\n",
    "# There are also many others: http://scikit-learn.org/stable/modules/feature_selection.html\n",
    "from sklearn.pipeline import Pipeline\n",
    "\n",
    "# Sklearn has many machine learning models\n",
    "# http://scikit-learn.org/stable/tutorial/machine_learning_map/index.html\n",
    "yourpipe = Pipeline([\n",
    "    ('selection', #INSERT SELECTION METHOD),\n",
    "    ('selection2',#INSERT ANOTHER?),\n",
    "    ('classifier', #ADD YOUR CLASSIFIER HERE)\n",
    "])\n",
    "     \n",
    "# Next define hyperparameter ranges\n",
    "# Don't go to crazy for this example, the gridsearchcv will run every combination\n",
    "# Naming format is 'pipeline-key__param-name'\n",
    "yourparams = {'selection__param1': [1,2,3],\n",
    "    'classifier__param1': ('option1','option2')}\n",
    "     \n",
    "# Now its time to run and check performance\n",
    "from sklearn.model_selection import GridSearchCV\n",
    "from sklearn.metrics import accuracy_score, classification_report\n",
    "grid = GridSearchCV(yourpipe, yourparams, n_jobs=8)\n",
    "\n",
    "grid.fit(X_train, y_train)\n",
    "predicted = grid.predict(X_test)\n",
    "print(classification_report(y_test, predicted, target_names=['susceptible','resistant']))"
   ]
  },
  {
   "cell_type": "code",
   "execution_count": null,
   "metadata": {},
   "outputs": [],
   "source": []
  }
 ],
 "metadata": {
  "kernelspec": {
   "display_name": "Python 3",
   "language": "python",
   "name": "python3"
  },
  "language_info": {
   "codemirror_mode": {
    "name": "ipython",
    "version": 3
   },
   "file_extension": ".py",
   "mimetype": "text/x-python",
   "name": "python",
   "nbconvert_exporter": "python",
   "pygments_lexer": "ipython3",
   "version": "3.6.5"
  }
 },
 "nbformat": 4,
 "nbformat_minor": 2
}
