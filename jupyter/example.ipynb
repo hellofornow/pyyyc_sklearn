{
 "cells": [
  {
   "cell_type": "markdown",
   "metadata": {},
   "source": [
    "# PyYYC: Intro to Scikit-Learn\n",
    "by matt whiteside"
   ]
  },
  {
   "cell_type": "markdown",
   "metadata": {},
   "source": [
    "## Example data\n",
    "From my work, I have provided some public health data\n",
    "\n",
    "This dataset includes:\n",
    "1. Feature data: presence or absence of genes in Salmonella genomes\n",
    "2. Target data: resistant or susceptible to the drug Streptomycin\n",
    "\n",
    "Goal: Is it possible to predict resistant bacteria from their genes?\n"
   ]
  },
  {
   "cell_type": "code",
   "execution_count": 2,
   "metadata": {},
   "outputs": [],
   "source": [
    "# I have pickled using sklearn's the data for fast loading\n",
    "# To load the feature data:\n",
    "from sklearn.externals import joblib\n",
    "joblib.l"
   ]
  },
  {
   "cell_type": "code",
   "execution_count": null,
   "metadata": {},
   "outputs": [],
   "source": []
  }
 ],
 "metadata": {
  "kernelspec": {
   "display_name": "Python 3",
   "language": "python",
   "name": "python3"
  },
  "language_info": {
   "codemirror_mode": {
    "name": "ipython",
    "version": 3
   },
   "file_extension": ".py",
   "mimetype": "text/x-python",
   "name": "python",
   "nbconvert_exporter": "python",
   "pygments_lexer": "ipython3",
   "version": "3.6.5"
  }
 },
 "nbformat": 4,
 "nbformat_minor": 2
}
